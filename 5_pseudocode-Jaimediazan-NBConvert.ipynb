{
 "cells": [
  {
   "cell_type": "markdown",
   "metadata": {},
   "source": [
    "## What is Pseudo-code?"
   ]
  },
  {
   "cell_type": "markdown",
   "metadata": {},
   "source": [
    "Pseudo-code is an informal coding practice to help programmers plan algorithms and train programmatic thinking. Pseudo-code is not tied to any specific programming language such as Python, JavaScript, or C#. Instead, it uses human languages. By using pseudo-code, you can plan every step of your program without worrying about syntax. Its greatest benefit is to allow you to discover the vulnerabilities and opportunities of your programmatic logic in order to improve it before implementation."
   ]
  },
  {
   "cell_type": "markdown",
   "metadata": {},
   "source": [
    "It is essentially breaking down the problem into simpler steps and in simpler words, not technical but just \n",
    "like a conversational language"
   ]
  },
  {
   "cell_type": "markdown",
   "metadata": {},
   "source": [
    "### Do's & Don'ts:"
   ]
  },
  {
   "cell_type": "markdown",
   "metadata": {},
   "source": [
    "#### Do's:"
   ]
  },
  {
   "cell_type": "markdown",
   "metadata": {},
   "source": [
    "- Use control structure\n",
    "- Use proper naming conventions\n",
    "- Indentations and white spaces are the key\n",
    "- Keep it simple\n",
    "- Keep it concise"
   ]
  },
  {
   "cell_type": "markdown",
   "metadata": {},
   "source": [
    "#### Don'ts:"
   ]
  },
  {
   "cell_type": "markdown",
   "metadata": {},
   "source": [
    "- Don't make your pseudo-code abstract\n",
    "- Don't be too generalized"
   ]
  },
  {
   "cell_type": "markdown",
   "metadata": {},
   "source": [
    "### Some Examples"
   ]
  },
  {
   "cell_type": "markdown",
   "metadata": {},
   "source": [
    "**Write a program that asks the user for a temperature in Fahrenheit and prints out the same temperature in Celsius.** "
   ]
  },
  {
   "cell_type": "code",
   "execution_count": 1,
   "metadata": {},
   "outputs": [],
   "source": [
    "# This is a sample pseudo code"
   ]
  },
  {
   "cell_type": "raw",
   "metadata": {},
   "source": [
    "x = Get user input\n",
    "y = Convert x to Celsius\n",
    "Output message displaying Celsius temperature"
   ]
  },
  {
   "cell_type": "code",
   "execution_count": 3,
   "metadata": {},
   "outputs": [],
   "source": [
    "# Here is the code "
   ]
  },
  {
   "cell_type": "code",
   "execution_count": 5,
   "metadata": {},
   "outputs": [
    {
     "name": "stdout",
     "output_type": "stream",
     "text": [
      "Please input a temperature in Fahrenheit. 100\n",
      "Data type for variable x is  <class 'str'>\n",
      "Your temperature in Celsius is: 37.77777777777778\n"
     ]
    }
   ],
   "source": [
    "#precise temperature\n",
    "# Use the input command for user input. Note when we use the input function, data type is string by default\n",
    "x=input('Please input a temperature in Fahrenheit. ')  \n",
    "            \n",
    "# We can check the data type for variable x\n",
    "print(\"Data type for variable x is \",type(x)) \n",
    "\n",
    "y=(float(x)-32)*5/9  # Formula to convert degree to fahreheit    \n",
    "\n",
    "print('Your temperature in Celsius is:', y)"
   ]
  },
  {
   "cell_type": "markdown",
   "metadata": {},
   "source": [
    "**Write a program that converts from Fahrenheit to Celsius or from Celsius to Fahrenheit, depending on the user's choice.**"
   ]
  },
  {
   "cell_type": "code",
   "execution_count": 7,
   "metadata": {},
   "outputs": [],
   "source": [
    "# This is a pseudo code"
   ]
  },
  {
   "cell_type": "raw",
   "metadata": {},
   "source": [
    "x = input \"Press 1 to convert from Fahrenheit to Celsius or Press 2 to convert from Celsius to Fahrenheit.\"\n",
    "y = input ask what number?\n",
    "z = choice\n",
    "\n",
    "if z = 1 (1 is pressed)  \n",
    "    do f to c conversion      # Note we use the correct identation in the pseudocode as well\n",
    "    print output\n",
    "elif z = 2 (2 is pressed)\n",
    "    do c to f conversion\n",
    "    print output\n",
    "else\n",
    "    print \"Please enter either 1 or 2\""
   ]
  },
  {
   "cell_type": "code",
   "execution_count": null,
   "metadata": {},
   "outputs": [],
   "source": [
    "# Here is the code "
   ]
  },
  {
   "cell_type": "code",
   "execution_count": 6,
   "metadata": {},
   "outputs": [
    {
     "name": "stdout",
     "output_type": "stream",
     "text": [
      "Press 1 to convert from Fahrenheit to Celsius or Press 2 to convert from Celsius to Fahrenheit.2\n",
      "What is the number you want to convert?30\n",
      "86.0\n"
     ]
    }
   ],
   "source": [
    "x = int(input(\"Press 1 to convert from Fahrenheit to Celsius or Press 2 to convert from Celsius to Fahrenheit.\"))\n",
    "y = input(\"What is the number you want to convert?\")\n",
    "z = float(x)\n",
    "\n",
    "if z == 1:\n",
    "    y=(float(y)-32)*5/9\n",
    "    print(y)\n",
    "elif z == 2:\n",
    "    y=float(y)*9/5+32\n",
    "    print(y)\n",
    "else:\n",
    "    print(\"Please enter either 1 or 2\")"
   ]
  },
  {
   "cell_type": "markdown",
   "metadata": {},
   "source": [
    "**Making the code more robust**"
   ]
  },
  {
   "cell_type": "markdown",
   "metadata": {},
   "source": [
    "What more can be added?   \n",
    "Right now if we debug our code, after first wrong input (let's say '3') the code will print an error message and stop.   \n",
    "In order to succeed with the request and improve the user experience we need to keep on asking for the value until the correct one is received. Besides that we should prevent compiling errors.  \n",
    "The float() function can receive only numerical values. What if user enters string value? He will receive Python error message which is useless for him.  \n",
    "We need to prevent such bad user experiences."
   ]
  },
  {
   "cell_type": "code",
   "execution_count": 8,
   "metadata": {},
   "outputs": [],
   "source": [
    "# This is a pseudo code"
   ]
  },
  {
   "cell_type": "raw",
   "metadata": {},
   "source": [
    "flag1 = entered value is wrong  \n",
    "# We are setting the default value to wrong/false. We will change the value to correct/true if the input value is correct                \n",
    "while flag1 is wrong\n",
    "    x = input \"Press 1 to convert from Fahrenheit to Celsius or Press 2 to convert from Celsius to Fahrenheit. \"\n",
    "    if x is not 1 or 2\n",
    "        print error message\n",
    "    else\n",
    "        z = choice\n",
    "        flag1 = entered value is correct\n",
    "\n",
    "flag2 = entered number is not a number\n",
    "while flag2 is wrong\n",
    "    y = input ask what number?\n",
    "    if y is not number\n",
    "        print error message\n",
    "    else\n",
    "        convert y into float number\n",
    "        flag2 = entered value is correct\n",
    "\n",
    "if z = 1 (1 is pressed)\n",
    "    do f to c conversion\n",
    "    print output\n",
    "else (2 is pressed)\n",
    "    do c to f conversion\n",
    "    print output"
   ]
  },
  {
   "cell_type": "code",
   "execution_count": 11,
   "metadata": {},
   "outputs": [],
   "source": [
    "# Here is the code "
   ]
  },
  {
   "cell_type": "code",
   "execution_count": 11,
   "metadata": {},
   "outputs": [
    {
     "name": "stdout",
     "output_type": "stream",
     "text": [
      "Press 1 to convert from Fahrenheit to Celsius or Press 2 to convert from Celsius to Fahrenheit. a\n",
      "ERROR: Please enter either 1 or 2\n",
      "Press 1 to convert from Fahrenheit to Celsius or Press 2 to convert from Celsius to Fahrenheit. 1\n",
      "What is the number you want to convert?a\n",
      "ERROR: Please enter a number\n",
      "What is the number you want to convert?100\n",
      "37.77777777777778\n"
     ]
    }
   ],
   "source": [
    "flag1=False\n",
    "while flag1==False:\n",
    "    x = input(\"Press 1 to convert from Fahrenheit to Celsius or Press 2 to convert from Celsius to Fahrenheit. \")\n",
    "    if x not in ['1','2']:\n",
    "        print('ERROR: Please enter either 1 or 2')\n",
    "    else:\n",
    "        z = int(x)\n",
    "        flag1=True\n",
    "\n",
    "flag2=False\n",
    "while flag2==False:\n",
    "    y = input(\"What is the number you want to convert?\")\n",
    "    if y.replace(\".\", \"\", 1).lstrip('+-').isdigit()==False:\n",
    "        print('ERROR: Please enter a number')\n",
    "    else:\n",
    "        y=float(y)\n",
    "        flag2=True\n",
    "\n",
    "if z == 1:\n",
    "    y=(y-32)*5/9\n",
    "    print(y)\n",
    "else:\n",
    "    y=y*9/5+32\n",
    "    print(y)"
   ]
  },
  {
   "cell_type": "code",
   "execution_count": null,
   "metadata": {},
   "outputs": [],
   "source": []
  },
  {
   "cell_type": "markdown",
   "metadata": {},
   "source": [
    "### Exercise - Writing Pseudocode"
   ]
  },
  {
   "cell_type": "markdown",
   "metadata": {},
   "source": [
    "#### Duel Of Sorcerers"
   ]
  },
  {
   "cell_type": "raw",
   "metadata": {},
   "source": [
    "1. You are witnessing an epic battle between two powerful sorcerers: Gandalf and Saruman. Each sorcerer has 10 spells of variable power in their mind and they are going to throw them one after the other. The winner of the duel will be the one who wins more of those clashes between spells. Spells are represented as a list of 10 integers whose value equals the power of the spell.\n",
    "\n",
    "gandalf = [10, 11, 13, 30, 22, 11, 10, 33, 22, 22]\n",
    "saruman = [23, 66, 12, 43, 12, 10, 44, 23, 12, 17]\n",
    "\n",
    "For example:\n",
    "The first clash is won by Saruman: 10 against 23, wins 23\n",
    "The second clash wins Saruman: 11 against 66, wins 66\n",
    "etc.\n",
    "\n",
    "You will create two variables, one for each sorcerer, where the sum of clashes won will be stored. Depending on which variable is greater at the end of the duel, you will show one of the following three results on the screen:\n",
    "Gandalf wins\n",
    "Saruman wins\n",
    "Tie\n",
    "\n",
    "Write a pseudocode to solve this problem and then code it !"
   ]
  },
  {
   "cell_type": "markdown",
   "metadata": {},
   "source": [
    "Important!: despite of the pseudocode has to be written in Raw NBConvert cells, I had problems to visualize the files uploaded in Github if the cells have this format so I uploaded the answer to the exercise written in a markdown cell to be read clearly. I wasn't able to solve these problems but I have a copy of this file correctly in my PC and also will be uploaded in my Github."
   ]
  },
  {
   "cell_type": "markdown",
   "metadata": {},
   "source": [
    "gandalf = list of spells of Gandalf\\\n",
    "saruman = list of spells of saruman\n",
    "\n",
    "gandalf_wins = counter of Gandalf victories\\\n",
    "saruman_wins = counter of Saruman victories\\\n",
    "\\# We are setting the default value to 0 and it will be increasing while the spells are being casted.\n",
    "\n",
    "i = counter of clashes\n",
    "\n",
    "while i is less than amount of spells of Gandalf (the lenght of the list of Gandalf spells)\n",
    "\n",
    "    if the gandalf spell is less than saruman spell\n",
    "    \n",
    "        increase gandalf_wins in 1\n",
    "        \n",
    "        increase i in 1\n",
    "        \n",
    "    else\n",
    "    \n",
    "        increase saruman_wins in 1\n",
    "        \n",
    "        increase i in 1\n",
    "        \n",
    "\n",
    "if gandalf_wins > saruman_wins (gandalf_wins is higher than saruman wins)\n",
    "\n",
    "    print Gandalf wins\n",
    "    \n",
    "elif gandalf_wins == saruman_wins (gandalf_wins is equal than saruman wins)\n",
    "\n",
    "    print Tie\n",
    "    \n",
    "else (gandalf_wins is less than saruman wins)\n",
    "\n",
    "    print Saruman wins\n",
    "    \n",
    "print number of gandalf wins\\\n",
    "print number of saruman wins\\\n",
    "\\# We print this in order to check the code is correct.\n",
    "    "
   ]
  },
  {
   "cell_type": "code",
   "execution_count": 5,
   "metadata": {
    "scrolled": true
   },
   "outputs": [
    {
     "name": "stdout",
     "output_type": "stream",
     "text": [
      "Gandalf wins\n",
      "Gandalf: 6\n",
      "Saruman: 4\n"
     ]
    }
   ],
   "source": [
    "gandalf = [10, 11, 13, 30, 22, 11, 10, 33, 22, 22]\n",
    "saruman = [23, 66, 12, 43, 12, 10, 44, 23, 12, 17]\n",
    "\n",
    "gandalf_wins = 0\n",
    "saruman_wins = 0\n",
    "i=0\n",
    "while i<len(gandalf):\n",
    "    if gandalf[i] > saruman[i]:\n",
    "        gandalf_wins +=1\n",
    "        i+=1\n",
    "    else:\n",
    "        saruman_wins +=1\n",
    "        i+=1\n",
    "\n",
    "if gandalf_wins > saruman_wins:\n",
    "    print('Gandalf wins')\n",
    "elif gandalf_wins == saruman_wins:\n",
    "    print('Tie')\n",
    "else:\n",
    "    print('Saruman wins')\n",
    "\n",
    "print('Gandalf:', gandalf_wins)\n",
    "print('Saruman:', saruman_wins)"
   ]
  },
  {
   "cell_type": "code",
   "execution_count": 3,
   "metadata": {},
   "outputs": [
    {
     "ename": "SyntaxError",
     "evalue": "invalid syntax (<ipython-input-3-7ef75ace67f8>, line 1)",
     "output_type": "error",
     "traceback": [
      "\u001b[1;36m  File \u001b[1;32m\"<ipython-input-3-7ef75ace67f8>\"\u001b[1;36m, line \u001b[1;32m1\u001b[0m\n\u001b[1;33m    jupyter nbconvert --to html 5_pseudocode-Jaimediazan.ipynb\u001b[0m\n\u001b[1;37m            ^\u001b[0m\n\u001b[1;31mSyntaxError\u001b[0m\u001b[1;31m:\u001b[0m invalid syntax\n"
     ]
    }
   ],
   "source": [
    "jupyter nbconvert --to html 5_pseudocode-Jaimediazan.ipynb"
   ]
  }
 ],
 "metadata": {
  "kernelspec": {
   "display_name": "Python 3",
   "language": "python",
   "name": "python3"
  },
  "language_info": {
   "codemirror_mode": {
    "name": "ipython",
    "version": 3
   },
   "file_extension": ".py",
   "mimetype": "text/x-python",
   "name": "python",
   "nbconvert_exporter": "python",
   "pygments_lexer": "ipython3",
   "version": "3.8.5"
  }
 },
 "nbformat": 4,
 "nbformat_minor": 2
}
